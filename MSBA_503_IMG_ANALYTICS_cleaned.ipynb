{
    "nbformat": 4,
    "nbformat_minor": 0,
    "metadata": {
        "kernelspec": {
            "name": "python3",
            "display_name": "Python 3"
        },
        "language_info": {
            "name": "python"
        }
    },
    "cells": [
        {
            "cell_type": "code",
            "source": [
                "#Import relevant libraries for object image analysis we will be comparing\n",
                "#Single Shot Detector(SSD) model vs. Faster-RCNN\n",
                "import torch\n",
                "import torchvision.transforms as T\n",
                "from torchvision.models.detection import fasterrcnn_resnet50_fpn, ssd300_vgg16\n",
                "from torchvision.models.detection.faster_rcnn import FasterRCNN_ResNet50_FPN_Weights\n",
                "import matplotlib.pyplot as plt\n",
                "import matplotlib.patches as patches\n",
                "from PIL import Image\n",
                "import pandas as pd\n",
                "import time\n",
                "import os"
            ],
            "metadata": {
                "id": "Eko90qGDCL13"
            },
            "execution_count": null,
            "outputs": []
        },
        {
            "cell_type": "code",
            "source": [
                "# Load COCO class labels dynamically\n",
                "weights = FasterRCNN_ResNet50_FPN_Weights.DEFAULT\n",
                "COCO_CLASSES = weights.meta[\"categories\"]\n",
                "\n",
                "# Load models\n",
                "faster_rcnn = fasterrcnn_resnet50_fpn(weights=weights)\n",
                "faster_rcnn.eval()\n",
                "ssd = ssd300_vgg16(pretrained=True)\n",
                "ssd.eval()\n",
                "\n",
                "# Image transformation\n",
                "transform = T.Compose([T.ToTensor()])\n",
                "\n",
                "# Load images\n",
                "image_folder = \"/content/drive/MyDrive/MSBA 503/images\"  # Update with your path\n",
                "images = [os.path.join(image_folder, img) for img in os.listdir(image_folder) if img.endswith(('.jpg', '.png'))]"
            ],
            "metadata": {
                "colab": {
                    "base_uri": "https://localhost:8080/"
                },
                "id": "i2VEvOXJbaoh",
                "outputId": "d9cf6de0-aee8-415d-a16f-1844327ca2e3"
            },
            "execution_count": null,
            "outputs": []
        },
        {
            "cell_type": "code",
            "source": [
                "# Visualization function using Matplotlib\n",
                "def visualize_results(image, boxes, labels, scores, title):\n",
                "    fig, ax = plt.subplots(1, figsize=(12, 8))\n",
                "    ax.imshow(image)\n",
                "    for box, score, label in zip(boxes, scores, labels):\n",
                "        x_min, y_min, x_max, y_max = box\n",
                "        rect = patches.Rectangle(\n",
                "            (x_min, y_min),\n",
                "            x_max - x_min,\n",
                "            y_max - y_min,\n",
                "            linewidth=2,\n",
                "            edgecolor='red',\n",
                "            facecolor='none'\n",
                "        )\n",
                "        ax.add_patch(rect)\n",
                "        ax.text(\n",
                "            x_min,\n",
                "            y_min - 5,\n",
                "            f\"{label}: {score:.2f}\",\n",
                "            color='white',\n",
                "            fontsize=10,\n",
                "            bbox=dict(facecolor='red', alpha=0.5)\n",
                "        )\n",
                "    ax.set_title(title)\n",
                "    plt.axis(\"off\")\n",
                "    plt.show()"
            ],
            "metadata": {
                "id": "9UblT4Orbi1X"
            },
            "execution_count": null,
            "outputs": []
        },
        {
            "cell_type": "code",
            "source": [
                "# Process results with commented-out visualization\n",
                "results = []\n",
                "\n",
                "for image_path in images:\n",
                "    img_name = os.path.basename(image_path)\n",
                "    image = Image.open(image_path).convert(\"RGB\")\n",
                "    image_tensor = transform(image)\n",
                "\n",
                "    # Measure detection time for Faster R-CNN\n",
                "    start_time = time.time()\n",
                "    with torch.no_grad():\n",
                "        faster_rcnn_preds = faster_rcnn([image_tensor])[0]\n",
                "    faster_rcnn_time = time.time() - start_time\n",
                "\n",
                "    # Extract Faster R-CNN predictions\n",
                "    faster_rcnn_boxes = faster_rcnn_preds['boxes'].tolist()\n",
                "    faster_rcnn_scores = faster_rcnn_preds['scores'].tolist()\n",
                "    faster_rcnn_labels = [COCO_CLASSES[label] for label in faster_rcnn_preds['labels'].tolist()]\n",
                "    faster_rcnn_filtered = [(b, l, s) for b, l, s in zip(faster_rcnn_boxes, faster_rcnn_labels, faster_rcnn_scores) if s > 0.5]\n",
                "\n",
                "    # Measure detection time for SSD\n",
                "    start_time = time.time()\n",
                "    with torch.no_grad():\n",
                "        ssd_preds = ssd([image_tensor])[0]\n",
                "    ssd_time = time.time() - start_time\n",
                "\n",
                "    # Extract SSD predictions\n",
                "    ssd_boxes = ssd_preds['boxes'].tolist()\n",
                "    ssd_scores = ssd_preds['scores'].tolist()\n",
                "    ssd_labels = [COCO_CLASSES[label] for label in ssd_preds['labels'].tolist()]\n",
                "    ssd_filtered = [(b, l, s) for b, l, s in zip(ssd_boxes, ssd_labels, ssd_scores) if s > 0.5]\n",
                "\n",
                "    # Visualization (commented out)\n",
                "    # if faster_rcnn_filtered:\n",
                "    #     boxes, labels, scores = zip(*faster_rcnn_filtered)\n",
                "    #     visualize_results(image, boxes, labels, scores, title=f\"Faster R-CNN: {img_name}\")\n",
                "    # if ssd_filtered:\n",
                "    #     boxes, labels, scores = zip(*ssd_filtered)\n",
                "    #     visualize_results(image, boxes, labels, scores, title=f\"SSD: {img_name}\")\n",
                "\n",
                "    # Extract additional insights\n",
                "    dimensions = image.size  # Image dimensions (width, height)\n",
                "    top_left_color = image.getpixel((0, 0))  # Dominant color at top-left pixel\n",
                "\n",
                "    # Record results for comparison\n",
                "    results.append({\n",
                "        'Image': img_name,\n",
                "        'Faster R-CNN Time (s)': round(faster_rcnn_time, 4),\n",
                "        'Faster R-CNN Objects': len(faster_rcnn_filtered),\n",
                "        'Faster R-CNN Avg Confidence': round(sum([s for _, _, s in faster_rcnn_filtered]) / len(faster_rcnn_filtered), 4) if faster_rcnn_filtered else 0,\n",
                "        'SSD Time (s)': round(ssd_time, 4),\n",
                "        'SSD Objects': len(ssd_filtered),\n",
                "        'SSD Avg Confidence': round(sum([s for _, _, s in ssd_filtered]) / len(ssd_filtered), 4) if ssd_filtered else 0,\n",
                "        'Image Dimensions': f\"{dimensions[0]}x{dimensions[1]}\",\n",
                "        'Top-Left Color': str(top_left_color),\n",
                "    })\n",
                "\n",
                "# Save results to DataFrame\n",
                "df = pd.DataFrame(results)\n",
                "\n",
                "# Round all numerical columns to 4 decimal places\n",
                "df = df.round(4)\n",
                "\n",
                "# Preview results\n",
                "print(\"Detection Results (Preview):\")\n",
                "print(df.head())"
            ],
            "metadata": {
                "colab": {
                    "base_uri": "https://localhost:8080/"
                },
                "id": "K9ME3_RCboCH",
                "outputId": "762126c8-85a9-4208-8efd-5c873adf8a9d"
            },
            "execution_count": null,
            "outputs": []
        }
    ]
}